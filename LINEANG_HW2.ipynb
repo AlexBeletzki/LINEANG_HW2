{
 "cells": [
  {
   "cell_type": "code",
   "execution_count": 1,
   "metadata": {},
   "outputs": [],
   "source": [
    "import numpy as np"
   ]
  },
  {
   "cell_type": "markdown",
   "metadata": {},
   "source": [
    " __1.__ Установить, какие произведения матриц $AB$ и $BA$ определены, и найти размерности полученных матриц:\n",
    " \n",
    " а) $A$ — матрица $4\\times 2$, $B$ — матрица $4\\times 2$;"
   ]
  },
  {
   "cell_type": "code",
   "execution_count": 31,
   "metadata": {},
   "outputs": [
    {
     "name": "stdout",
     "output_type": "stream",
     "text": [
      "Матрица A\n",
      "[[ 8  5]\n",
      " [ 4  6]\n",
      " [ 0 11]\n",
      " [ 2  7]]\n",
      "Матрица B\n",
      "[[ 5  2]\n",
      " [ 5  7]\n",
      " [ 3 13]\n",
      " [22  4]]\n"
     ]
    },
    {
     "ename": "ValueError",
     "evalue": "shapes (4,2) and (4,2) not aligned: 2 (dim 1) != 4 (dim 0)",
     "output_type": "error",
     "traceback": [
      "\u001b[1;31m---------------------------------------------------------------------------\u001b[0m",
      "\u001b[1;31mValueError\u001b[0m                                Traceback (most recent call last)",
      "\u001b[1;32m<ipython-input-31-56c55a0c9b04>\u001b[0m in \u001b[0;36m<module>\u001b[1;34m\u001b[0m\n\u001b[0;32m      4\u001b[0m \u001b[0mprint\u001b[0m\u001b[1;33m(\u001b[0m\u001b[1;34mf'Матрица A\\n{A}'\u001b[0m\u001b[1;33m)\u001b[0m\u001b[1;33m\u001b[0m\u001b[1;33m\u001b[0m\u001b[0m\n\u001b[0;32m      5\u001b[0m \u001b[0mprint\u001b[0m\u001b[1;33m(\u001b[0m\u001b[1;34mf'Матрица B\\n{B}'\u001b[0m\u001b[1;33m)\u001b[0m\u001b[1;33m\u001b[0m\u001b[1;33m\u001b[0m\u001b[0m\n\u001b[1;32m----> 6\u001b[1;33m \u001b[0mprint\u001b[0m\u001b[1;33m(\u001b[0m\u001b[1;34mf'Матрица AB\\n{np.dot(A, B)}'\u001b[0m\u001b[1;33m)\u001b[0m\u001b[1;33m\u001b[0m\u001b[1;33m\u001b[0m\u001b[0m\n\u001b[0m",
      "\u001b[1;31mValueError\u001b[0m: shapes (4,2) and (4,2) not aligned: 2 (dim 1) != 4 (dim 0)"
     ]
    }
   ],
   "source": [
    "A = np.array([[8, 5], [4, 6], [0, 11], [2, 7]])\n",
    "B = np.array([[5, 2], [5, 7], [3, 13], [22, 4]])\n",
    "\n",
    "print(f'Матрица A\\n{A}')\n",
    "print(f'Матрица B\\n{B}')\n",
    "print(f'Матрица AB\\n{np.dot(A, B)}')"
   ]
  },
  {
   "cell_type": "markdown",
   "metadata": {},
   "source": [
    "б) $A$ — матрица $2\\times 5$, $B$ — матрица $5\\times 3$;"
   ]
  },
  {
   "cell_type": "code",
   "execution_count": 30,
   "metadata": {},
   "outputs": [
    {
     "name": "stdout",
     "output_type": "stream",
     "text": [
      "Матрица A\n",
      "[[ 8  5  6  7 12]\n",
      " [ 4  6  0  4 11]]\n",
      "Матрица B\n",
      "[[ 5  2  3]\n",
      " [ 5  7  4]\n",
      " [ 3 13  1]\n",
      " [22  4  5]\n",
      " [ 2  5  9]]\n",
      "Матрица AB\n",
      "[[261 217 193]\n",
      " [160 121 155]]\n"
     ]
    }
   ],
   "source": [
    "A2 = np.array([[8, 5, 6, 7, 12], [4, 6, 0, 4, 11]])\n",
    "B2 = np.array([[5, 2, 3], [5, 7, 4], [3, 13, 1], [22, 4, 5], [2, 5, 9]])\n",
    "\n",
    "print(f'Матрица A\\n{A2}')\n",
    "print(f'Матрица B\\n{B2}')\n",
    "print(f'Матрица AB\\n{np.dot(A2, B2)}')"
   ]
  },
  {
   "cell_type": "markdown",
   "metadata": {},
   "source": [
    "   в) $A$ — матрица $8\\times 3$, $B$ — матрица $3\\times 8$;"
   ]
  },
  {
   "cell_type": "code",
   "execution_count": 29,
   "metadata": {},
   "outputs": [
    {
     "name": "stdout",
     "output_type": "stream",
     "text": [
      "Матрица A\n",
      "[[ 5  2  3]\n",
      " [ 5  7  4]\n",
      " [ 3 13  1]\n",
      " [22  4  5]\n",
      " [ 2  5  9]\n",
      " [ 5  7  4]\n",
      " [ 3 13  1]\n",
      " [22  4  5]]\n",
      "Матрица B\n",
      "[[ 8  5  6  7 12  8  9 10]\n",
      " [ 4  6  0  4 11 33 11 14]\n",
      " [ 4  6  0  4 11 54  5  8]]\n",
      "Матрица AB\n",
      "[[ 60  55  30  55 115 268  82 102]\n",
      " [ 84  91  30  79 181 487 142 180]\n",
      " [ 80  99  18  77 190 507 175 220]\n",
      " [212 164 132 190 363 578 267 316]\n",
      " [ 72  94  12  70 178 667 118 162]\n",
      " [ 84  91  30  79 181 487 142 180]\n",
      " [ 80  99  18  77 190 507 175 220]\n",
      " [212 164 132 190 363 578 267 316]]\n"
     ]
    }
   ],
   "source": [
    "A3 = np.array([[5, 2, 3], [5, 7, 4], [3, 13, 1], [22, 4, 5], [2, 5, 9], [5, 7, 4], [3, 13, 1], [22, 4, 5]])\n",
    "B3 = np.array([[8, 5, 6, 7, 12, 8, 9, 10], [4, 6, 0, 4, 11, 33, 11, 14], [4, 6, 0, 4, 11, 54, 5, 8]])\n",
    "\n",
    "print(f'Матрица A\\n{A3}')\n",
    "print(f'Матрица B\\n{B3}')\n",
    "print(f'Матрица AB\\n{np.dot(A3, B3)}')"
   ]
  },
  {
   "cell_type": "markdown",
   "metadata": {},
   "source": [
    " г) $A$ — квадратная матрица $4\\times 4$, $B$ — квадратная матрица $4\\times 4$."
   ]
  },
  {
   "cell_type": "code",
   "execution_count": 32,
   "metadata": {},
   "outputs": [
    {
     "name": "stdout",
     "output_type": "stream",
     "text": [
      "Матрица A\n",
      "[[ 8  5  5  5]\n",
      " [ 4  6  4  4]\n",
      " [ 0 11 12 66]\n",
      " [ 2  7  1  1]]\n",
      "Матрица B\n",
      "[[  5   2   7   7]\n",
      " [  5   7   8   9]\n",
      " [  3  13  55 100]\n",
      " [ 22   4   4  99]]\n",
      "Матрица AB\n",
      "[[ 190  136  391 1096]\n",
      " [ 150  118  312  878]\n",
      " [1543  497 1012 7833]\n",
      " [  70   70  129  276]]\n"
     ]
    }
   ],
   "source": [
    "A4 = np.array([[8, 5, 5, 5], [4, 6, 4, 4], [0, 11, 12, 66], [2, 7, 1, 1]])\n",
    "B4 = np.array([[5, 2, 7, 7], [5, 7, 8, 9], [3, 13, 55, 100], [22, 4, 4, 99]])\n",
    "\n",
    "print(f'Матрица A\\n{A4}')\n",
    "print(f'Матрица B\\n{B4}')\n",
    "print(f'Матрица AB\\n{np.dot(A4, B4)}')"
   ]
  },
  {
   "cell_type": "markdown",
   "metadata": {},
   "source": [
    "__2.__ Найти сумму и произведение матриц $A=\\begin{pmatrix}\n",
    "1 & -2\\\\ \n",
    "3 & 0\n",
    "\\end{pmatrix}$ и $B=\\begin{pmatrix}\n",
    "4 & -1\\\\ \n",
    "0 & 5\n",
    "\\end{pmatrix}.$"
   ]
  },
  {
   "cell_type": "code",
   "execution_count": 35,
   "metadata": {},
   "outputs": [
    {
     "name": "stdout",
     "output_type": "stream",
     "text": [
      "Матрица A\n",
      "[[ 1 -2]\n",
      " [ 3  0]]\n",
      "Матрица B\n",
      "[[ 4 -1]\n",
      " [ 0  5]]\n",
      "Сложение Матриц A + B\n",
      "[[ 5 -3]\n",
      " [ 3  5]]\n",
      " Произведение Матриц AB\n",
      "[[  4 -11]\n",
      " [ 12  -3]]\n"
     ]
    }
   ],
   "source": [
    "A5 = np.array([[1, -2], [3, 0]])\n",
    "B5 = np.array([[4, -1], [0, 5]])\n",
    "\n",
    "print(f'Матрица A\\n{A5}')\n",
    "print(f'Матрица B\\n{B5}')\n",
    "print(f'Сложение Матриц A + B\\n{A5 + B5}')\n",
    "print(f' Произведение Матриц AB\\n{np.dot(A5, B5)}')"
   ]
  },
  {
   "cell_type": "markdown",
   "metadata": {},
   "source": [
    "__3.__ Из закономерностей сложения и умножения матриц на число можно сделать вывод, что матрицы одного размера образуют линейное пространство. Вычислить линейную комбинацию $3A-2B+4C$ для матриц $A=\\begin{pmatrix}\n",
    "1 & 7\\\\ \n",
    "3 & -6\n",
    "\\end{pmatrix}$, $B=\\begin{pmatrix}\n",
    "0 & 5\\\\ \n",
    "2 & -1\n",
    "\\end{pmatrix}$, $C=\\begin{pmatrix}\n",
    "2 & -4\\\\ \n",
    "1 & 1\n",
    "\\end{pmatrix}.$"
   ]
  },
  {
   "cell_type": "code",
   "execution_count": 2,
   "metadata": {},
   "outputs": [
    {
     "name": "stdout",
     "output_type": "stream",
     "text": [
      "Матрица 3*А\n",
      "[[ 11  -5]\n",
      " [  9 -12]]\n"
     ]
    }
   ],
   "source": [
    "A6 = np.array([[1, 7], [3, -6]])\n",
    "B6 = np.array([[0, 5], [2, -1]])\n",
    "C6 = np.array([[2, -4], [1, 1]])\n",
    "\n",
    "k = 3\n",
    "n = 2\n",
    "m = 4\n",
    "\n",
    "print(f'Матрица 3А-2B+4C\\n{k*A6 - n*B6 + m*C6}')"
   ]
  },
  {
   "cell_type": "markdown",
   "metadata": {},
   "source": [
    "__4.__ Дана матрица $A=\\begin{pmatrix}\n",
    "4 & 1\\\\ \n",
    "5 & -2\\\\ \n",
    "2 & 3\n",
    "\\end{pmatrix}$.\n",
    "Вычислить $AA^{T}$ и $A^{T}A$."
   ]
  },
  {
   "cell_type": "code",
   "execution_count": 6,
   "metadata": {},
   "outputs": [
    {
     "name": "stdout",
     "output_type": "stream",
     "text": [
      "Матрица:\n",
      "[[ 4  1]\n",
      " [ 5 -2]\n",
      " [ 2  3]]\n",
      "Транспонированная матрица:\n",
      "[[ 4  5  2]\n",
      " [ 1 -2  3]]\n",
      "Матрица A*A^T:\n",
      "[[17 18 11]\n",
      " [18 29  4]\n",
      " [11  4 13]]\n",
      "Матрица A^T*A:\n",
      "[[45  0]\n",
      " [ 0 14]]\n"
     ]
    }
   ],
   "source": [
    "A7 = np.array([[4, 1], [5, -2], [2, 3]])\n",
    "A8 = A7.T\n",
    "\n",
    "q = np.dot(A7, A8)\n",
    "i = np.dot(A8, A7)\n",
    "\n",
    "print(f'Матрица:\\n{A7}')\n",
    "print(f'Транспонированная матрица:\\n{A8}')\n",
    "print(f'Матрица A*A^T:\\n{q}')\n",
    "print(f'Матрица A^T*A:\\n{i}')"
   ]
  },
  {
   "cell_type": "code",
   "execution_count": null,
   "metadata": {},
   "outputs": [],
   "source": []
  }
 ],
 "metadata": {
  "kernelspec": {
   "display_name": "Python 3",
   "language": "python",
   "name": "python3"
  },
  "language_info": {
   "codemirror_mode": {
    "name": "ipython",
    "version": 3
   },
   "file_extension": ".py",
   "mimetype": "text/x-python",
   "name": "python",
   "nbconvert_exporter": "python",
   "pygments_lexer": "ipython3",
   "version": "3.7.1"
  }
 },
 "nbformat": 4,
 "nbformat_minor": 2
}
